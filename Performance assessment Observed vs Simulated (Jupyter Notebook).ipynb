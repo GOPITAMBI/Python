{
 "cells": [
  {
   "cell_type": "markdown",
   "metadata": {},
   "source": [
    "# Script to Evaluate the effiency of Simulated Data vs Obsereved Time Series Data\n",
    "Created By: Sukant Jain, Research Scientist, NIH"
   ]
  },
  {
   "cell_type": "code",
   "execution_count": null,
   "metadata": {},
   "outputs": [],
   "source": [
    "import pandas as pd\n",
    "import numpy as np\n",
    "import os\n",
    "import plotly.express as px\n",
    "from hydroeval import evaluator, nse, rmse, pbias"
   ]
  },
  {
   "cell_type": "code",
   "execution_count": null,
   "metadata": {},
   "outputs": [],
   "source": [
    "Start_Date = \"01/01/1900\" #MMDDYYY\n",
    "\n",
    "# Import the Example timeseries Data\n",
    "df=pd.read_csv(\"simulated_VS_observed_Dummy_Data.csv\")\n",
    "df[\"date\"]=pd.date_range(start=Start_Date, periods=len(df),freq=\"D\") \n",
    "df=df.set_index(\"date\")\n",
    "\n",
    "df.head()\n"
   ]
  },
  {
   "cell_type": "markdown",
   "metadata": {},
   "source": [
    "# Performance Evaluation of Daily Data"
   ]
  },
  {
   "cell_type": "code",
   "execution_count": null,
   "metadata": {},
   "outputs": [],
   "source": [
    "sim=df.iloc[:,0]\n",
    "obs=df.iloc[:,1]\n",
    "\n",
    "np_sim = np.array (sim)\n",
    "np_obs = np.array (obs)\n",
    "\n",
    "numerator = np.sum(np_sim*np_obs)*len(np_sim)-np.sum(np_sim)*np.sum(np_obs)\n",
    "denominator = np.sqrt((np.sum(np.square(np_sim))*len(np_sim)-np.square(np.sum(np_sim)))*(np.sum(np.square(np_obs))*len(np_sim)-np.square(np.sum(np_obs))))\n",
    "r2 = np.square(numerator/denominator)\n",
    "nsee = evaluator(nse, np_sim, np_obs)[0]\n",
    "bias = evaluator(pbias, np_sim, np_obs)[0]\n",
    "rmsee = evaluator(rmse, np_sim, np_obs)[0]\n",
    "#print (\"R square :\" round(r2,3), round(nsee,3), round(bias,3), round(rmsee,3))\n",
    "print(f\"R Square: {round(r2,3)}\")\n",
    "print(f\"NSE: {round(nsee,3)}\")\n",
    "print(f\"P-BIAS: {round(bias,3)}\")\n",
    "print(f\"RMSE: {round(rmsee,3)}\")\n",
    "\n"
   ]
  },
  {
   "cell_type": "code",
   "execution_count": null,
   "metadata": {},
   "outputs": [],
   "source": [
    "# Plotting Daily Data\n",
    "\n",
    "combine = pd.concat([sim, obs], axis=1)\n",
    "combine.columns = [\"Simulated\", \"Obsereved\"]\n",
    "fig = px.line(combine, y=[\"Simulated\", \"Obsereved\"])\n",
    "fig.show()"
   ]
  },
  {
   "cell_type": "markdown",
   "metadata": {},
   "source": [
    "# Performance Evaluation of Monthly Data"
   ]
  },
  {
   "cell_type": "code",
   "execution_count": null,
   "metadata": {},
   "outputs": [],
   "source": [
    "monthly_sim = sim.resample('M').sum()\n",
    "monthly_obs = obs.resample('M').sum()\n",
    "\n",
    "np_sim = np.array (monthly_sim)\n",
    "np_obs = np.array (monthly_obs)\n",
    "\n",
    "numerator = np.sum(np_sim*np_obs)*len(np_sim)-np.sum(np_sim)*np.sum(np_obs)\n",
    "denominator = np.sqrt((np.sum(np.square(np_sim))*len(np_sim)-np.square(np.sum(np_sim)))*(np.sum(np.square(np_obs))*len(np_sim)-np.square(np.sum(np_obs))))\n",
    "r2 = np.square(numerator/denominator)\n",
    "nsee = evaluator(nse, np_sim, np_obs)[0]\n",
    "bias = evaluator(pbias, np_sim, np_obs)[0]\n",
    "rmsee = evaluator(rmse, np_sim, np_obs)[0]\n",
    "#print (\"R square :\" round(r2,3), round(nsee,3), round(bias,3), round(rmsee,3))\n",
    "print(f\"R Square: {round(r2,3)}\")\n",
    "print(f\"NSE: {round(nsee,3)}\")\n",
    "print(f\"P-BIAS: {round(bias,3)}\")\n",
    "print(f\"RMSE: {round(rmsee,3)}\")\n"
   ]
  },
  {
   "cell_type": "code",
   "execution_count": null,
   "metadata": {},
   "outputs": [],
   "source": [
    "# Plotting the Data\n",
    "\n",
    "combine = pd.concat([monthly_sim, monthly_obs], axis=1)\n",
    "combine.columns = [\"Monthly_Simulated\", \"Monthly_Obsereved\"]\n",
    "fig = px.line(combine, y=[\"Monthly_Simulated\", \"Monthly_Obsereved\"])\n",
    "fig.show()"
   ]
  }
 ],
 "metadata": {
  "kernelspec": {
   "display_name": "Python 3",
   "language": "python",
   "name": "python3"
  },
  "language_info": {
   "codemirror_mode": {
    "name": "ipython",
    "version": 3
   },
   "file_extension": ".py",
   "mimetype": "text/x-python",
   "name": "python",
   "nbconvert_exporter": "python",
   "pygments_lexer": "ipython3",
   "version": "3.7.3"
  }
 },
 "nbformat": 4,
 "nbformat_minor": 2
}
